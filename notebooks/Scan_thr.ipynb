{
 "cells": [
  {
   "cell_type": "code",
   "execution_count": null,
   "metadata": {},
   "outputs": [],
   "source": [
    "import numpy as np\n",
    "from numpy import array as arr\n",
    "\n",
    "import pandas\n",
    "import matplotlib.pyplot as plt\n",
    "from matplotlib.colors import LogNorm\n",
    "import pylandau\n",
    "\n",
    "# import my plotting stuff\n",
    "import sys\n",
    "sys.path.append('./PythonHelpers/')\n",
    "from PlotLib import Plotting\n",
    "import PlotLib.Histogramming as Hist\n",
    "import PlotLib.Plotting as Plot\n",
    "from CSVimporter.importer import load_run\n",
    "# from CSVimporter.importer import load_data\n",
    "# from CSVimporter.importer import load_settings\n",
    "\n",
    "from CSVimporter.importer import load_scan"
   ]
  },
  {
   "cell_type": "code",
   "execution_count": null,
   "metadata": {},
   "outputs": [],
   "source": [
    "nEvts = 10000\n",
    "runID = 184\n",
    "name = \"thr\"\n",
    "entries = arr([30,60,90,120,150,170,190,200,210,220,230,240,250,260])\n",
    "\n",
    "runs = load_scan(runID, name, entries, nEvts)"
   ]
  },
  {
   "cell_type": "code",
   "execution_count": null,
   "metadata": {},
   "outputs": [],
   "source": [
    "runs"
   ]
  },
  {
   "cell_type": "code",
   "execution_count": null,
   "metadata": {},
   "outputs": [],
   "source": [
    "fig, ax = Hist.create_fig(2,2,[8,6])\n",
    "\n",
    "\n",
    "\n",
    "\n",
    "Hist.finalize(runs[30], fig, ax, \"Pixel Charge\", \"Pixel charge [e-]\", \"Fe55 Peak Position\",  measurement=\"TB\", logy=False)"
   ]
  }
 ],
 "metadata": {
  "kernelspec": {
   "display_name": "Python 3",
   "language": "python",
   "name": "python3"
  },
  "language_info": {
   "codemirror_mode": {
    "name": "ipython",
    "version": 3
   },
   "file_extension": ".py",
   "mimetype": "text/x-python",
   "name": "python",
   "nbconvert_exporter": "python",
   "pygments_lexer": "ipython3",
   "version": "3.10.12"
  }
 },
 "nbformat": 4,
 "nbformat_minor": 2
}
