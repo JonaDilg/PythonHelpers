{
 "cells": [
  {
   "cell_type": "markdown",
   "metadata": {},
   "source": [
    "## 184\n",
    "\"1*([0]+[1]*x+[2]*TMath::Sq(x)+[3]*pow(x,3)+[4]*pow(x,4)+[5]*pow(x,5)+[6]*pow(x,6)+[7]*pow(x,7)+[8]*pow(x,8))\",\"-1*([0]+[1]*x+[2]*TMath::Sq(x)+[3]*pow(x,3)+[4]*pow(x,4)+[5]*pow(x,5)+[6]*pow(x,6))\",\"[0]\"\n",
    "\n",
    "x_p: 1.2504618, 1.69491e-16, -1.169e-29, -1.869e-42, 2.184e-55, -9.303e-69, 1.924e-82, -1.935e-96, 7.588e-111\n",
    "y_p: -0.3289728, 1.53891e-16, -3.931e-30, -8.186e-44, 8.49e-57, -1.619e-70, 9.313e-85\n",
    "z_p: 283"
   ]
  },
  {
   "cell_type": "code",
   "execution_count": null,
   "metadata": {},
   "outputs": [],
   "source": [
    "# global coordinates\n",
    "x_p0 = 0.0003257 + 1.250648\n",
    "x_p1 = 1.673e-16\n",
    "\n",
    "y_p0 = 0.0009641 - 0.329425\n",
    "y_p1 = 1.517e-16\n",
    "\n",
    "# local coordinates. keep the sign from the fit\n",
    "dx_p0 = -0.0005119\n",
    "dx_p1 = 2.191e-18\n",
    "\n",
    "dy_p0 = 5.735e-5\n",
    "dy_p1 = -5.719e-18\n",
    "\n",
    "# math\n",
    "x_p0 = x_p0 + dy_p0\n",
    "x_p1 = x_p1 + dy_p1\n",
    "y_p0 = y_p0 + dx_p0\n",
    "y_p1 = y_p1 + dx_p1\n"
   ]
  },
  {
   "cell_type": "code",
   "execution_count": null,
   "metadata": {},
   "outputs": [],
   "source": [
    "# local coordinates. keep the sign from the fit\n",
    "dx_p0 = -0.000207\n",
    "dx_p1 = 7.888e-19\n",
    "\n",
    "dy_p0 = 0.0003993\n",
    "dy_p1 = -7.958e-18\n",
    "\n",
    "# math\n",
    "x_p0 = x_p0 + dy_p0\n",
    "x_p1 = x_p1 + dy_p1\n",
    "y_p0 = y_p0 + dx_p0\n",
    "y_p1 = y_p1 + dx_p1"
   ]
  },
  {
   "cell_type": "code",
   "execution_count": null,
   "metadata": {},
   "outputs": [],
   "source": [
    "print(\"x = {0:.6f}, {1:.6e}\".format(x_p0, x_p1))\n",
    "print(\"x = {0:.6f}, {1:.6e}\".format(y_p0, y_p1))"
   ]
  },
  {
   "cell_type": "markdown",
   "metadata": {},
   "source": [
    "## 190\n",
    "\"1*([0]+[1]*x+[2]*TMath::Sq(x)+[3]*pow(x,3)+[4]*pow(x,4)+[5]*pow(x,5)+[6]*pow(x,6)+[7]*pow(x,7)+[8]*pow(x,8)+[9]*pow(x,9))\",\"-1*([0]+[1]*x+[2]*TMath::Sq(x)+[3]*pow(x,3)+[4]*pow(x,4)+[5]*pow(x,5)+[6]*pow(x,6)+[7]*pow(x,7)+[8]*pow(x,8)+[9]*pow(x,9))\", \"[0]\"\n",
    "\n",
    "x_p: 1.2433385, 2.43498e-16, -1.22424e-29, 9.15289e-44, 1.82071e-57, -4.40621e-71, 4.60925e-85, -4.66004e-99, 4.24818e-113, -1.63788e-127\n",
    "y_p: -0.32632079999999997, 1.883143e-15, -3.3718e-28, 2.73667e-41, -1.17995e-54, 2.95247e-68, -4.42122e-82, 3.90164e-96, -1.87001e-110, 3.75314e-125\n",
    "z_p: 283"
   ]
  },
  {
   "cell_type": "code",
   "execution_count": null,
   "metadata": {},
   "outputs": [],
   "source": [
    "\n",
    "# global coordinates\n",
    "x_p0 = 1.243659 - 0.0004474\n",
    "x_p1 = 2.46656e-16\n",
    "\n",
    "y_p0 = -0.32365 - 0.002563\n",
    "y_p1 = 1.88024e-15\n",
    "\n",
    "# local coordinates. keep the sign from the fit\n",
    "dx_p0 = -0.0001078\n",
    "dx_p1 = 2.903e-18\n",
    "\n",
    "dy_p0 = 0.0001269\n",
    "dy_p1 = -3.158e-18\n",
    "\n",
    "# math\n",
    "x_p0 = x_p0 + dy_p0\n",
    "x_p1 = x_p1 + dy_p1\n",
    "y_p0 = y_p0 + dx_p0\n",
    "y_p1 = y_p1 + dx_p1"
   ]
  },
  {
   "cell_type": "code",
   "execution_count": null,
   "metadata": {},
   "outputs": [],
   "source": [
    "# local coordinates. keep the sign from the fit\n",
    "dx_p0 = -3.195e-5\n",
    "dx_p1 = 1.105e-18\n",
    "\n",
    "dy_p0 = 4.297e-5\n",
    "dy_p1 = -1.038e-18\n",
    "\n",
    "# math\n",
    "x_p0 = x_p0 + dy_p0\n",
    "x_p1 = x_p1 + dy_p1\n",
    "y_p0 = y_p0 + dx_p0\n",
    "y_p1 = y_p1 + dx_p1"
   ]
  },
  {
   "cell_type": "code",
   "execution_count": null,
   "metadata": {},
   "outputs": [],
   "source": [
    "print(\"x = {0:.6f}, {1:.6e}\".format(x_p0, x_p1))\n",
    "print(\"x = {0:.6f}, {1:.6e}\".format(y_p0, y_p1))"
   ]
  },
  {
   "cell_type": "markdown",
   "metadata": {},
   "source": [
    "## 192\n",
    "\"1*([0]+[1]*x+[2]*TMath::Sq(x)+[3]*pow(x,3)+[4]*pow(x,4)+[5]*pow(x,5)+[6]*pow(x,6)+[7]*pow(x,7)+[8]*pow(x,8)+[9]*pow(x,9))\", \"-1*([0]+[1]*x+[2]*TMath::Sq(x)+[3]*pow(x,3)+[4]*pow(x,4)+[5]*pow(x,5)+[6]*pow(x,6)+[7]*pow(x,7)+[8]*pow(x,8)+[9]*pow(x,9))\", \"[0]\"\n",
    "\n",
    "x_p: 1.233370723, 5.254053e-16, -1.53104e-28, 1.22088e-41, -5.00452e-55, 1.15686e-68, -1.55607e-82, 1.20686e-96, -5.00605e-111, 8.60413e-126\n",
    "y_p: -0.3173134, 9.095149999999999e-17, 4.49047e-30, -5.67345e-44, -2.10408e-57, 4.26287e-71, -3.56464e-85, 3.07619e-99, -2.29386e-113, 6.80657e-128\n",
    "z_p: 283"
   ]
  },
  {
   "cell_type": "code",
   "execution_count": null,
   "metadata": {},
   "outputs": [],
   "source": [
    "# global coordinates\n",
    "x_p0 = 1.234225 - 0.0008633\n",
    "x_p1 = 5.25381e-16\n",
    "\n",
    "y_p0 = -0.317135 - 0.0004893\n",
    "y_p1 = 9.20275e-17\n",
    "\n",
    "# local coordinates. keep the sign from the fit\n",
    "dx_p0 = 0.0003109\n",
    "dx_p1 = -1.076e-18\n",
    "\n",
    "dy_p0 = 9.023e-6\n",
    "dy_p1 = 2.43e-20\n",
    "\n",
    "# math\n",
    "x_p0 = x_p0 + dy_p0\n",
    "x_p1 = x_p1 + dy_p1\n",
    "y_p0 = y_p0 + dx_p0\n",
    "y_p1 = y_p1 + dx_p1"
   ]
  },
  {
   "cell_type": "code",
   "execution_count": null,
   "metadata": {},
   "outputs": [],
   "source": [
    "# local coordinates. keep the sign from the fit\n",
    "dx_p0 = 8.418e-05\n",
    "dx_p1 = -4.828e-20\n",
    "\n",
    "dy_p0 = 5.124e-05\n",
    "dy_p1 = -1.114e-18\n",
    "\n",
    "# math\n",
    "x_p0 = x_p0 + dy_p0\n",
    "x_p1 = x_p1 + dy_p1\n",
    "y_p0 = y_p0 + dx_p0\n",
    "y_p1 = y_p1 + dx_p1"
   ]
  },
  {
   "cell_type": "code",
   "execution_count": null,
   "metadata": {},
   "outputs": [],
   "source": [
    "print(\"x = {0:.6f}, {1:.6e}\".format(x_p0, x_p1))\n",
    "print(\"x = {0:.6f}, {1:.6e}\".format(y_p0, y_p1))"
   ]
  }
 ],
 "metadata": {
  "kernelspec": {
   "display_name": "jupyter",
   "language": "python",
   "name": "python3"
  },
  "language_info": {
   "codemirror_mode": {
    "name": "ipython",
    "version": 3
   },
   "file_extension": ".py",
   "mimetype": "text/x-python",
   "name": "python",
   "nbconvert_exporter": "python",
   "pygments_lexer": "ipython3",
   "version": "3.12.3"
  }
 },
 "nbformat": 4,
 "nbformat_minor": 2
}
