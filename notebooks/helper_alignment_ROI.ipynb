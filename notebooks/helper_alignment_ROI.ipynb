{
 "cells": [
  {
   "cell_type": "code",
   "execution_count": null,
   "metadata": {},
   "outputs": [],
   "source": [
    "import numpy as np\n",
    "from numpy import array as arr\n",
    "\n",
    "def get_corners_string(RangeX, RangeY):\n",
    "    text = \"[\" + str(RangeX[0]) + \", \" + str(RangeY[0]) + \"], \"\n",
    "    text += \"[\" + str(RangeX[0]) + \", \" + str(RangeY[1]) + \"], \"\n",
    "    text += \"[\" + str(RangeX[1]) + \", \" + str(RangeY[0]) + \"], \"\n",
    "    text += \"[\" + str(RangeX[1]) + \", \" + str(RangeY[1]) + \"]\"\n",
    "    return text "
   ]
  },
  {
   "cell_type": "code",
   "execution_count": null,
   "metadata": {},
   "outputs": [],
   "source": [
    "print(\" 0 \")\n",
    "x = arr([ 507 , 566 ])\n",
    "y = arr([ 230 , 285 ])\n",
    "print(get_corners_string(x, y))\n",
    "\n",
    "print(\" 1 \")\n",
    "x = arr([ 517 , 531 ])\n",
    "y = arr([ 237 , 251 ])\n",
    "print(get_corners_string(x, y))\n",
    "\n",
    "print(\" 2 \")\n",
    "x = arr([ 520 , 529 ])\n",
    "y = arr([ 252 , 260 ])\n",
    "print(get_corners_string(x, y))\n",
    "\n",
    "print(\" 3 \")\n",
    "x = arr([ 549 , 559 ])\n",
    "y = arr([ 264 , 272 ])\n",
    "print(get_corners_string(x, y))\n",
    "\n",
    "print(\" 4 \")\n",
    "x = arr([ 539 , 552 ])\n",
    "y = arr([ 255 , 265 ])\n",
    "print(get_corners_string(x, y))\n",
    "\n",
    "print(\"  \")\n",
    "x = arr([ 541 , 557 ])\n",
    "y = arr([ 258 , 274 ])\n",
    "print(get_corners_string(x, y))"
   ]
  },
  {
   "cell_type": "code",
   "execution_count": null,
   "metadata": {},
   "outputs": [],
   "source": [
    "print(\"  \")\n",
    "x = arr([  ,  ])\n",
    "y = arr([  ,  ])\n",
    "print(get_corners_string(x, y))"
   ]
  }
 ],
 "metadata": {
  "kernelspec": {
   "display_name": "jupyter",
   "language": "python",
   "name": "python3"
  },
  "language_info": {
   "codemirror_mode": {
    "name": "ipython",
    "version": 3
   },
   "file_extension": ".py",
   "mimetype": "text/x-python",
   "name": "python",
   "nbconvert_exporter": "python",
   "pygments_lexer": "ipython3",
   "version": "3.12.3"
  }
 },
 "nbformat": 4,
 "nbformat_minor": 2
}
