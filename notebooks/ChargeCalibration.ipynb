{
 "cells": [
  {
   "cell_type": "code",
   "execution_count": 1,
   "metadata": {},
   "outputs": [],
   "source": [
    "import numpy as np\n",
    "from numpy import array as arr\n",
    "\n",
    "import pandas\n",
    "import matplotlib.pyplot as plt\n",
    "from matplotlib.colors import LogNorm\n",
    "import pylandau\n",
    "from scipy.optimize import curve_fit\n",
    "import uncertainties as unc\n",
    "from uncertainties import unumpy as unp\n",
    "from uncertainties.unumpy import uarray as uarr\n",
    "from uncertainties.unumpy import nominal_values as val\n",
    "from uncertainties.unumpy import std_devs as dev\n",
    "from uncertainties import ufloat as uf\n",
    "\n",
    "# import my plotting stuff\n",
    "import sys\n",
    "sys.path.append('./PythonHelpers/')\n",
    "from PlotLib import Plotting\n",
    "import PlotLib.Histogramming as Hist\n",
    "import PlotLib.Plotting as Plot\n",
    "from CSVimporter.importer import load_run\n",
    "from CSVimporter.importer import dict_to_arr\n",
    "\n",
    "def fitfunc_gauss(x, A, mu, sigma):\n",
    "    return A * np.exp(-0.5*((x-mu)/sigma)**2)"
   ]
  },
  {
   "cell_type": "code",
   "execution_count": null,
   "metadata": {},
   "outputs": [],
   "source": [
    "loadEvents = 100000\n",
    "runIDs = arr([637,635,639,633,638,636,640,634])\n",
    "\n",
    "data = {}\n",
    "for runID in runIDs:\n",
    "    data[runID] = load_run(runID, loadEvents*4)\n",
    "    data[runID][\"nEvts\"] = min(data[runID][\"nEvts\"],loadEvents)\n",
    "    \n",
    "# data[runID][\"data\"][evt,pixel,M[key]]\n",
    "M = data[runIDs[0]][\"M\"]"
   ]
  },
  {
   "cell_type": "code",
   "execution_count": null,
   "metadata": {},
   "outputs": [],
   "source": [
    "binRange = [0.025,0.2]\n",
    "binN = 40\n",
    "binWidth = (binRange[1]-binRange[0])/binN\n",
    "print(binWidth)\n",
    "key = \"AmplitudeEst\"\n",
    "fitRangeBinsLow = arr([\n",
    "    [27,25,24,28],\n",
    "    [26,25,23,26],\n",
    "    [25,23,22,24],\n",
    "    [24,21,20,23],\n",
    "    [22,21,17,23],\n",
    "    [22,20,16,22],\n",
    "    [21,19,16,21],\n",
    "    [21,18,15,20],\n",
    "])\n",
    "fitRangeBinsHigh = arr([ [35]*4, [34]*4, [34]*4, [34]*4, [34]*4, [34]*4, [34]*4, [38]*4 ])\n",
    "    \n",
    "\n",
    "fig, axs = Hist.create_fig(2,4, [10,12])\n",
    "pixMap = [1,3,0,2]\n",
    "PixNames = arr([\"Pix 0,0\", \"Pix 0,1\", \"Pix 1,0\", \"Pix 1,1\"])\n",
    "    \n",
    "for i,runID in enumerate(runIDs):\n",
    "    data[runID][\"charge_cal\"] = uarr([0]*4, [0]*4)\n",
    "    for i_pix in range(4):\n",
    "        entries = data[runID][\"data\"][:,pixMap[i_pix],M[key]]\n",
    "        hist, bins = np.histogram(entries, bins=binN, range=binRange)\n",
    "        \n",
    "        fitMask = np.zeros(len(bins)-1, dtype=bool)\n",
    "        for j in range(len(bins)-1):\n",
    "            if j > fitRangeBinsLow[i,i_pix] and j < fitRangeBinsHigh[i,i_pix]:\n",
    "                fitMask[j] = True\n",
    "        p0 = arr([1000, 0.13, 0.01])\n",
    "        popt, perr, chi2, ndeg = Hist.fit_wrapper(hist, bins, fitMask, fitfunc_gauss, p0)\n",
    "        data[runID][\"charge_cal\"][i_pix] = 1620 / uf(popt[1], perr[1])\n",
    "        \n",
    "        fitX = np.arange(bins[:-1][fitMask][0]+binWidth/2, bins[:-1][fitMask][-1]+3/2*binWidth, binWidth/20)\n",
    "        x = np.arange(binRange[0], binRange[1],(binRange[1]-binRange[0])/1000)     \n",
    "        \n",
    "        label = PixNames[i_pix]+\" N=\"+str(int(np.sum(hist)/1000))+\"k\" +\"\\n  \"+r\"$\\mu$\"+\"={:.1u}\".format(uf(popt[1], perr[1])) +\"\\n  \"+r\"chi2red\"+\"={:.1f} / {:n}\".format(chi2,ndeg)\n",
    "        \n",
    "        axs[i].plot(fitX, fitfunc_gauss(fitX,*popt), color=\"black\", lw=1, label=\"\")\n",
    "        axs[i].plot(x, fitfunc_gauss(x,*popt), color=\"black\", lw=.5, ls=\":\", label=\"\")\n",
    "        Hist.draw(axs[i], hist, bins, color=\"C\"+str(i_pix), label=label, fill_alpha=0.1)\n",
    "    axs[i].set_xlim(binRange)\n",
    "\n",
    "subtitles = dict_to_arr(data, runIDs, \"krum_bias_trim\")\n",
    "subtitles = [\"krum_bias_trimming = \"+str(subtitles[i])+\"nA\" for i in range(len(subtitles))]\n",
    "Hist.finalize(data[runID], fig, axs, \"Amplitude [V]\", \"Entries\", \"Amplitude\", subtitles, measurement=\"Fe55_all\", logy=False)\n",
    "fig.savefig(\"/home/jona/DESY/analysis_python/output/Amplitude.pdf\")"
   ]
  },
  {
   "cell_type": "code",
   "execution_count": null,
   "metadata": {},
   "outputs": [],
   "source": [
    "fig, ax = Hist.create_fig(1,1,[6,4])\n",
    "\n",
    "runIDs = arr([637,635,639,633,638,636,640,634])\n",
    "for i_pix in range(4):\n",
    "    krum_bias_trimS = dict_to_arr(data, runIDs, \"krum_bias_trim\")\n",
    "    charge_calS = uarr([val(data[runID][\"charge_cal\"][i_pix]) for runID in runIDs],[dev(data[runID][\"charge_cal\"][i_pix]) for runID in runIDs])\n",
    "    # Hist.draw(axS, val(charge_cal), np.arange(len(runIDs)), color=\"C\"+str(i_pix), label=PixNames[i_pix], fill_alpha=0.1)\n",
    "    ax.errorbar(krum_bias_trimS, val(charge_calS), yerr=dev(charge_calS), fmt=\"o-\", color=\"C\"+str(i_pix), label=PixNames[i_pix], capsize=3, markersize=3)\n",
    "\n",
    "ax.set_xticks(krum_bias_trimS)\n",
    "Hist.finalize(data[runID], fig, ax, \"krum_bias_trim [nA]\", \"Charge [e-]\", \"Charge Calibration Factors\", subtitles, measurement=\"Fe55_all\", logy=False)\n",
    "fig.savefig(\"output/ChargeCalibrationFactors.pdf\")"
   ]
  },
  {
   "cell_type": "code",
   "execution_count": null,
   "metadata": {},
   "outputs": [],
   "source": [
    "fig, ax = Hist.create_fig(1,1,[6,4])\n",
    "\n",
    "runIDs = arr([637,635,639,633,638,636,640,634])\n",
    "for i_pix in range(4):\n",
    "    krum_bias_trimS = dict_to_arr(data, runIDs, \"krum_bias_trim\")\n",
    "    charge_calS = uarr([val(data[runID][\"charge_cal\"][i_pix]) for runID in runIDs],[dev(data[runID][\"charge_cal\"][i_pix]) for runID in runIDs])\n",
    "    charge_calS = 1 / (charge_calS / 1620) * 1000\n",
    "    ax.errorbar(krum_bias_trimS, val(charge_calS), yerr=dev(charge_calS), fmt=\"o-\", color=\"C\"+str(i_pix), label=PixNames[i_pix], capsize=3, markersize=3)\n",
    "\n",
    "ax.set_xticks(krum_bias_trimS)\n",
    "Hist.finalize(data[runID], fig, ax, \"krum_bias_trim [nA]\", \"Fe55 Peak Position [mV]\", \"Fe55 Peak Position\", subtitles, measurement=\"Fe55_all\", logy=False)\n",
    "fig.savefig(\"output/Fe55PeakPosition.pdf\")"
   ]
  },
  {
   "cell_type": "code",
   "execution_count": null,
   "metadata": {},
   "outputs": [],
   "source": [
    "def get_calibration_factor_(data_, krum_bias_trim, pix):\n",
    "    runIDs = arr([637,635,639,633,638,636,640,634])\n",
    "    krum_bias_trims = dict_to_arr(data_, runIDs, \"krum_bias_trim\")\n",
    "    runID = runIDs[np.where(krum_bias_trims == krum_bias_trim)[0][0]]\n",
    "    return data_[runID][\"charge_cal\"][pix]\n",
    "\n",
    "def get_calibration_factorS(data_, krum_bias_trimS):\n",
    "    if len(krum_bias_trimS) != 4:\n",
    "        print(\"Error: krum_bias_trimS must have length 4, coresponding to the 4 pixels\")\n",
    "    return arr([get_calibration_factor_(data_, krum_bias_trimS[pix], pix).nominal_value for pix in range(4)])\n",
    "\n",
    "print(\"184: \", get_calibration_factorS(data, arr([4.57,6.78,5.53,5.53])))\n",
    "print(\"190: \", get_calibration_factorS(data, arr([2.32,3.30,3.30,3.30])))\n",
    "print(\"192: \", get_calibration_factorS(data, arr([6.78,9.91,9.91,9.91])))\n",
    "\n"
   ]
  },
  {
   "cell_type": "code",
   "execution_count": null,
   "metadata": {},
   "outputs": [],
   "source": [
    "charge_cal = {}\n",
    "for krum in arr([2.32, 3.30, 4.57, 5.53, 6.78, 7.73, 8.96, 9.91]):\n",
    "    charge_cal[krum] = arr(get_calibration_factorS(data, arr([krum]*4)))\n",
    "charge_cal"
   ]
  },
  {
   "cell_type": "code",
   "execution_count": null,
   "metadata": {},
   "outputs": [],
   "source": []
  }
 ],
 "metadata": {
  "kernelspec": {
   "display_name": "Python 3",
   "language": "python",
   "name": "python3"
  },
  "language_info": {
   "codemirror_mode": {
    "name": "ipython",
    "version": 3
   },
   "file_extension": ".py",
   "mimetype": "text/x-python",
   "name": "python",
   "nbconvert_exporter": "python",
   "pygments_lexer": "ipython3",
   "version": "3.10.12"
  }
 },
 "nbformat": 4,
 "nbformat_minor": 2
}
